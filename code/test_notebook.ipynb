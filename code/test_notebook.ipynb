{
 "cells": [
  {
   "cell_type": "code",
   "execution_count": 61,
   "id": "8721ac33-8435-40fe-b249-12c7a82d407c",
   "metadata": {},
   "outputs": [],
   "source": [
    "from amm import amm\n",
    "import numpy as np\n",
    "\n",
    "import matplotlib.pyplot as plt\n",
    "#plt.style.use('paper.mplstyle')\n",
    "\n",
    "import seaborn as sns\n",
    "sns.set_theme(style=\"ticks\")\n",
    "\n",
    "import statsmodels.api as sm\n",
    "import matplotlib.ticker as mtick"
   ]
  },
  {
   "cell_type": "markdown",
   "id": "980fba8a-713b-4ec0-a9a3-6a612469309c",
   "metadata": {},
   "source": [
    "# Pool configuration"
   ]
  },
  {
   "cell_type": "code",
   "execution_count": 62,
   "id": "fbf4464c-0b90-49a2-a513-c70eb28ff0f4",
   "metadata": {},
   "outputs": [],
   "source": [
    "''' Initial reserves '''\n",
    "Rx0   = np.array([100,   100,   100], float)\n",
    "Ry0   = np.array([1000,  1000,  1000], float)\n",
    "\n",
    "''' Fee rate '''\n",
    "phi   = np.array([0.003, 0.003, 0.003], float)\n",
    "\n",
    "pools = amm(Rx=Rx0, Ry=Ry0, phi=phi)"
   ]
  },
  {
   "cell_type": "code",
   "execution_count": 63,
   "id": "4fd22cdd-6588-4066-b583-6fbea10b2501",
   "metadata": {},
   "outputs": [
    {
     "name": "stdout",
     "output_type": "stream",
     "text": [
      "Available liquidity coins: [316.228 316.228 316.228]\n"
     ]
    }
   ],
   "source": [
    "print('Available liquidity coins:', np.round(pools.L, 3))"
   ]
  },
  {
   "cell_type": "markdown",
   "id": "e80a121d-1516-45ba-9a45-8da10600e37c",
   "metadata": {},
   "source": [
    "# Swapping"
   ]
  },
  {
   "cell_type": "code",
   "execution_count": 64,
   "id": "6e2c1335-3a4c-4a73-aef7-20dd969d245c",
   "metadata": {},
   "outputs": [
    {
     "name": "stdout",
     "output_type": "stream",
     "text": [
      "Obtained Y coins : [9.87 4.96 1.  ]\n",
      "Reserves in X    : [101.  100.5 100.1]\n",
      "Reserves in Y    : [990.13 995.04 999.  ]\n"
     ]
    }
   ],
   "source": [
    "''' Swapping 1   coin-X in pool 1, \n",
    "             0.5 coin-X in pool 2, \n",
    "             0.1 coin-X in pool 3 '''\n",
    "y = pools.swap_x_to_y([1, 0.5, 0.1], quote=False)\n",
    "\n",
    "print('Obtained Y coins :', np.round(y, 2))\n",
    "print('Reserves in X    :', pools.Rx)\n",
    "print('Reserves in Y    :', np.round(pools.Ry, 2))"
   ]
  },
  {
   "cell_type": "markdown",
   "id": "201ae9fd-8c97-4a0e-a8af-a6298b499220",
   "metadata": {},
   "source": [
    "# Minting and burning"
   ]
  },
  {
   "cell_type": "code",
   "execution_count": 65,
   "id": "775c6647-cb30-4722-8be2-c4800925d589",
   "metadata": {},
   "outputs": [
    {
     "ename": "AssertionError",
     "evalue": "pool 0 has incorrect submission of tokens",
     "output_type": "error",
     "traceback": [
      "\u001b[0;31m---------------------------------------------------------------------------\u001b[0m",
      "\u001b[0;31mAssertionError\u001b[0m                            Traceback (most recent call last)",
      "Cell \u001b[0;32mIn[65], line 5\u001b[0m\n\u001b[1;32m      1\u001b[0m \u001b[38;5;124;03m''' Minting with incorrect amount '''\u001b[39;00m\n\u001b[1;32m      3\u001b[0m x \u001b[38;5;241m=\u001b[39m [\u001b[38;5;241m1\u001b[39m, \u001b[38;5;241m1\u001b[39m, \u001b[38;5;241m1\u001b[39m]\n\u001b[0;32m----> 5\u001b[0m l \u001b[38;5;241m=\u001b[39m \u001b[43mpools\u001b[49m\u001b[38;5;241;43m.\u001b[39;49m\u001b[43mmint\u001b[49m\u001b[43m(\u001b[49m\u001b[43mx\u001b[49m\u001b[43m \u001b[49m\u001b[38;5;241;43m=\u001b[39;49m\u001b[43m \u001b[49m\u001b[43mx\u001b[49m\u001b[43m,\u001b[49m\u001b[43m \u001b[49m\u001b[43my\u001b[49m\u001b[43m \u001b[49m\u001b[38;5;241;43m=\u001b[39;49m\u001b[43m \u001b[49m\u001b[43mnp\u001b[49m\u001b[38;5;241;43m.\u001b[39;49m\u001b[43mrandom\u001b[49m\u001b[38;5;241;43m.\u001b[39;49m\u001b[43mrand\u001b[49m\u001b[43m(\u001b[49m\u001b[38;5;241;43m3\u001b[39;49m\u001b[43m)\u001b[49m\u001b[43m)\u001b[49m\n",
      "File \u001b[0;32m~/Documents/Programació/SIAG FME Code Quest 2023/code/amm.py:130\u001b[0m, in \u001b[0;36mamm.mint\u001b[0;34m(self, x, y)\u001b[0m\n\u001b[1;32m    127\u001b[0m y \u001b[38;5;241m=\u001b[39m np\u001b[38;5;241m.\u001b[39marray(y)\n\u001b[1;32m    129\u001b[0m \u001b[38;5;28;01mfor\u001b[39;00m k \u001b[38;5;129;01min\u001b[39;00m \u001b[38;5;28mrange\u001b[39m(\u001b[38;5;28mself\u001b[39m\u001b[38;5;241m.\u001b[39mN):\n\u001b[0;32m--> 130\u001b[0m     \u001b[38;5;28;01massert\u001b[39;00m np\u001b[38;5;241m.\u001b[39mabs( ((x[k]\u001b[38;5;241m/\u001b[39my[k])\u001b[38;5;241m-\u001b[39m\u001b[38;5;28mself\u001b[39m\u001b[38;5;241m.\u001b[39mRx[k]\u001b[38;5;241m/\u001b[39m\u001b[38;5;28mself\u001b[39m\u001b[38;5;241m.\u001b[39mRy[k]) ) \u001b[38;5;241m<\u001b[39m \u001b[38;5;241m1e-9\u001b[39m, \u001b[38;5;124m\"\u001b[39m\u001b[38;5;124mpool \u001b[39m\u001b[38;5;124m\"\u001b[39m \u001b[38;5;241m+\u001b[39m \u001b[38;5;28mstr\u001b[39m(k) \u001b[38;5;241m+\u001b[39m \u001b[38;5;124m\"\u001b[39m\u001b[38;5;124m has incorrect submission of tokens\u001b[39m\u001b[38;5;124m\"\u001b[39m\n\u001b[1;32m    132\u001b[0m l \u001b[38;5;241m=\u001b[39m x \u001b[38;5;241m/\u001b[39m \u001b[38;5;28mself\u001b[39m\u001b[38;5;241m.\u001b[39mRx \u001b[38;5;241m*\u001b[39m \u001b[38;5;28mself\u001b[39m\u001b[38;5;241m.\u001b[39mL\n\u001b[1;32m    134\u001b[0m \u001b[38;5;28mself\u001b[39m\u001b[38;5;241m.\u001b[39mRx \u001b[38;5;241m+\u001b[39m\u001b[38;5;241m=\u001b[39m x\n",
      "\u001b[0;31mAssertionError\u001b[0m: pool 0 has incorrect submission of tokens"
     ]
    }
   ],
   "source": [
    "''' Minting with incorrect amount '''\n",
    "\n",
    "x = [1, 1, 1]\n",
    "\n",
    "l = pools.mint(x = x, y = np.random.rand(3))"
   ]
  },
  {
   "cell_type": "code",
   "execution_count": 66,
   "id": "6c5b9e1e-1a1c-4716-bbee-2fd7257f3843",
   "metadata": {},
   "outputs": [
    {
     "name": "stdout",
     "output_type": "stream",
     "text": [
      "Trader liquidity coins : [3.13 3.15 3.16]\n",
      "Pool liquidity coins   : [319.36 319.37 319.39]\n"
     ]
    }
   ],
   "source": [
    "''' Minting with correct amount '''\n",
    "\n",
    "y = x * pools.Ry / pools.Rx\n",
    "\n",
    "l = pools.mint(x = x, y = y)\n",
    "\n",
    "print('Trader liquidity coins :', np.round(pools.l, 2))\n",
    "print('Pool liquidity coins   :', np.round(pools.L, 2))"
   ]
  },
  {
   "cell_type": "code",
   "execution_count": 67,
   "id": "567e7c6c-6b6f-4315-8670-1daa33c1f76d",
   "metadata": {},
   "outputs": [
    {
     "ename": "AssertionError",
     "evalue": "you have insufficient LP tokens",
     "output_type": "error",
     "traceback": [
      "\u001b[0;31m---------------------------------------------------------------------------\u001b[0m",
      "\u001b[0;31mAssertionError\u001b[0m                            Traceback (most recent call last)",
      "Cell \u001b[0;32mIn[67], line 3\u001b[0m\n\u001b[1;32m      1\u001b[0m \u001b[38;5;124;03m''' Burning incorrect amount of LP coins '''\u001b[39;00m\n\u001b[0;32m----> 3\u001b[0m x, y \u001b[38;5;241m=\u001b[39m \u001b[43mpools\u001b[49m\u001b[38;5;241;43m.\u001b[39;49m\u001b[43mburn\u001b[49m\u001b[43m(\u001b[49m\u001b[43ml\u001b[49m\u001b[38;5;241;43m+\u001b[39;49m\u001b[38;5;241;43m1\u001b[39;49m\u001b[43m)\u001b[49m\n",
      "File \u001b[0;32m~/Documents/Programació/SIAG FME Code Quest 2023/code/amm.py:188\u001b[0m, in \u001b[0;36mamm.burn\u001b[0;34m(self, l)\u001b[0m\n\u001b[1;32m    185\u001b[0m l \u001b[38;5;241m=\u001b[39m np\u001b[38;5;241m.\u001b[39marray(l)\n\u001b[1;32m    187\u001b[0m \u001b[38;5;28;01mfor\u001b[39;00m k \u001b[38;5;129;01min\u001b[39;00m \u001b[38;5;28mrange\u001b[39m(\u001b[38;5;28mself\u001b[39m\u001b[38;5;241m.\u001b[39mN):\n\u001b[0;32m--> 188\u001b[0m     \u001b[38;5;28;01massert\u001b[39;00m l[k] \u001b[38;5;241m<\u001b[39m\u001b[38;5;241m=\u001b[39m \u001b[38;5;28mself\u001b[39m\u001b[38;5;241m.\u001b[39ml[k], \u001b[38;5;124m\"\u001b[39m\u001b[38;5;124myou have insufficient LP tokens\u001b[39m\u001b[38;5;124m\"\u001b[39m\n\u001b[1;32m    190\u001b[0m x \u001b[38;5;241m=\u001b[39m l \u001b[38;5;241m/\u001b[39m \u001b[38;5;28mself\u001b[39m\u001b[38;5;241m.\u001b[39mL \u001b[38;5;241m*\u001b[39m \u001b[38;5;28mself\u001b[39m\u001b[38;5;241m.\u001b[39mRx\n\u001b[1;32m    191\u001b[0m y \u001b[38;5;241m=\u001b[39m l \u001b[38;5;241m/\u001b[39m \u001b[38;5;28mself\u001b[39m\u001b[38;5;241m.\u001b[39mL \u001b[38;5;241m*\u001b[39m \u001b[38;5;28mself\u001b[39m\u001b[38;5;241m.\u001b[39mRy\n",
      "\u001b[0;31mAssertionError\u001b[0m: you have insufficient LP tokens"
     ]
    }
   ],
   "source": [
    "''' Burning incorrect amount of LP coins '''\n",
    "\n",
    "x, y = pools.burn(l+1)"
   ]
  },
  {
   "cell_type": "code",
   "execution_count": 68,
   "id": "9bc443ee-b4a4-4b1e-b044-0efce1a20f74",
   "metadata": {},
   "outputs": [],
   "source": [
    "''' Burning correct amount of LP coints '''\n",
    "x, y = pools.burn(l)"
   ]
  },
  {
   "cell_type": "code",
   "execution_count": 69,
   "id": "bbb19aeb-8bf9-49bc-ae17-d0db1a70b09e",
   "metadata": {},
   "outputs": [
    {
     "name": "stdout",
     "output_type": "stream",
     "text": [
      "Trader LP coins        : [0. 0. 0.]\n",
      "Trader X coins         : [1. 1. 1.]\n",
      "Trader Y coins         : [9.8  9.9  9.98]\n",
      "Pool LP coins          : [316.23 316.23 316.23]\n"
     ]
    }
   ],
   "source": [
    "print('Trader LP coins        :', np.round(pools.l, 2))\n",
    "print('Trader X coins         :', np.round(x, 2))\n",
    "print('Trader Y coins         :', np.round(y, 2))\n",
    "print('Pool LP coins          :', np.round(pools.L, 2))"
   ]
  },
  {
   "cell_type": "markdown",
   "id": "44542e6e-0d4a-4c11-9ec3-b32e52d6b260",
   "metadata": {},
   "source": [
    "# Swapping then minting/burning"
   ]
  },
  {
   "cell_type": "code",
   "execution_count": 70,
   "id": "41e72213-3a44-4489-a435-29b9e15ffefb",
   "metadata": {
    "tags": []
   },
   "outputs": [],
   "source": [
    "''' Swapping 10 coin-X in each pool and minting '''\n",
    "l = pools.swap_and_mint([10, 10, 10])"
   ]
  },
  {
   "cell_type": "code",
   "execution_count": 71,
   "id": "67406e8c-b66e-4c96-8221-c911e06a637d",
   "metadata": {},
   "outputs": [
    {
     "name": "stdout",
     "output_type": "stream",
     "text": [
      "Minted LP coins       : [15.26 15.34 15.4 ]\n",
      "Total trader LP coins : [15.26 15.34 15.4 ]\n",
      "Available LP coins    : [331.49 331.56 331.62]\n"
     ]
    }
   ],
   "source": [
    "print('Minted LP coins       :', np.round(l, 2))\n",
    "print('Total trader LP coins :', np.round(pools.l, 2))\n",
    "print('Available LP coins    :', np.round(pools.L, 2))"
   ]
  },
  {
   "cell_type": "markdown",
   "id": "e03fa2ef-e266-4e7b-b15c-bd99ef9ef279",
   "metadata": {},
   "source": [
    "# Burning then swapping"
   ]
  },
  {
   "cell_type": "code",
   "execution_count": 72,
   "id": "f0f72e33-06b7-497a-acf0-7ac4c885071d",
   "metadata": {
    "tags": []
   },
   "outputs": [],
   "source": [
    "''' Burning and swapping the l LP coins '''\n",
    "total_x = pools.burn_and_swap(l)"
   ]
  },
  {
   "cell_type": "code",
   "execution_count": 73,
   "id": "fd9de7d3-763d-4049-b8fa-cfc9237c9417",
   "metadata": {},
   "outputs": [
    {
     "name": "stdout",
     "output_type": "stream",
     "text": [
      "Number of X coins received   : 28.796\n",
      "Total trader LP coins        : [0. 0. 0.]\n",
      "Available LP coins           : [316.23 316.23 316.23]\n"
     ]
    }
   ],
   "source": [
    "print('Number of X coins received   :', np.round(total_x, 3))\n",
    "print('Total trader LP coins        :', np.round(pools.l, 2))\n",
    "print('Available LP coins           :', np.round(pools.L, 2))"
   ]
  },
  {
   "cell_type": "markdown",
   "id": "9dfe92f6-6231-4aa8-b953-133f87b9489d",
   "metadata": {},
   "source": [
    "# Simulation example"
   ]
  },
  {
   "cell_type": "code",
   "execution_count": 74,
   "id": "4adc5279-d530-49d7-ac46-59804ec8a4b7",
   "metadata": {},
   "outputs": [
    {
     "name": "stderr",
     "output_type": "stream",
     "text": [
      "100%|██████████| 1000/1000 [00:13<00:00, 71.65it/s]"
     ]
    },
    {
     "name": "stdout",
     "output_type": "stream",
     "text": [
      "Reserves in asset X for scenario 0: [ 96.49101693 118.36668868 121.08317029]\n",
      "Reserves in asset Y for scenario 0: [1142.26798192  931.52147691  912.31146597]\n"
     ]
    },
    {
     "name": "stderr",
     "output_type": "stream",
     "text": [
      "\n"
     ]
    }
   ],
   "source": [
    "\"\"\" Fix the seed \"\"\"\n",
    "np.random.seed(999983)\n",
    "\n",
    "\"\"\" Initialise the pools \"\"\"\n",
    "Rx0   = np.array([100,   100,   100], float)\n",
    "Ry0   = np.array([1000,  1000,  1000], float)\n",
    "phi   = np.array([0.003, 0.003, 0.003], float)\n",
    "\n",
    "pools = amm(Rx=Rx0, Ry=Ry0, phi=phi)\n",
    "\n",
    "\"\"\" Swap and mint \"\"\"\n",
    "xs_0 = [10, 10, 10]\n",
    "l    = pools.swap_and_mint(xs_0)\n",
    "\n",
    "\"\"\" Simulate 1000 paths of trading in the pools \"\"\"\n",
    "batch_size = 1_000\n",
    "T          = 60\n",
    "kappa      = np.array([0.6,  0.5,  1,     2])\n",
    "p          = np.array([0.85, 0.3,  0.2,   0.3])\n",
    "sigma      = np.array([0.05, 0.01, 0.025, 0.05])\n",
    "\n",
    "end_pools, Rx_t, Ry_t, v_t, event_type_t, event_direction_t =\\\n",
    "        pools.simulate( kappa = kappa, p = p, sigma = sigma, T = T, batch_size = batch_size)\n",
    "\n",
    "print('Reserves in asset X for scenario 0:', end_pools[0].Rx)\n",
    "print('Reserves in asset Y for scenario 0:', end_pools[0].Ry)"
   ]
  },
  {
   "cell_type": "code",
   "execution_count": 84,
   "id": "aec4b972-8781-4bb4-821f-8618978a3983",
   "metadata": {
    "tags": []
   },
   "outputs": [],
   "source": [
    "\"\"\" Burn and swap all coins into x \"\"\"\n",
    "x_T = np.zeros(batch_size)\n",
    "for k in range(batch_size):\n",
    "    x_T[k] = np.sum(end_pools[k].burn_and_swap(l))"
   ]
  },
  {
   "cell_type": "code",
   "execution_count": 82,
   "id": "a5c2a20d-547d-4cda-a31a-b86dcb38d95a",
   "metadata": {},
   "outputs": [
    {
     "name": "stdout",
     "output_type": "stream",
     "text": [
      "Average performance     : -0.20901521880279092\n",
      "Std. Dev. of performance: 0.9785467095949135\n"
     ]
    }
   ],
   "source": [
    "x_0      = np.sum(xs_0)\n",
    "log_ret  = np.log(x_T) - np.log(x_0) # performance / log return\n",
    "\n",
    "print('Average performance     :', np.mean(log_ret)/T*100)\n",
    "print('Std. Dev. of performance:', np.std(log_ret)/np.sqrt(T)*100)"
   ]
  },
  {
   "cell_type": "code",
   "execution_count": 90,
   "metadata": {},
   "outputs": [
    {
     "name": "stderr",
     "output_type": "stream",
     "text": [
      "100%|██████████| 1000/1000 [00:13<00:00, 72.07it/s]"
     ]
    },
    {
     "name": "stdout",
     "output_type": "stream",
     "text": [
      " Reserves in coin X for scenario 0 :  [ 96.49101693 118.36668868 121.08317029]\n",
      " Reserves in coin Y for scenario 0 :  [1142.26798192  931.52147691  912.31146597]\n",
      " Average performance :  -0.20901521880279092\n",
      " Std . Dev . of performance :  0.9785467095949135\n"
     ]
    },
    {
     "name": "stderr",
     "output_type": "stream",
     "text": [
      "\n"
     ]
    }
   ],
   "source": [
    "\"\"\" Fix the seed \"\"\"\n",
    "np . random . seed ( 999983 )\n",
    "\"\"\" Initialise the pools \"\"\"\n",
    "Rx0 = np . array ( [ 100 , 100 , 100 ] , float )\n",
    "Ry0 = np . array ( [ 1000 , 1000 , 1000 ] , float )\n",
    "phi = np . array ( [ 0.003 , 0.003 , 0.003 ] , float )\n",
    "pools = amm ( Rx = Rx0 , Ry = Ry0 , phi = phi )\n",
    "\"\"\" Swap and mint \"\"\"\n",
    "xs_0 = [ 10 , 10 , 10 ]\n",
    "l = pools . swap_and_mint ( xs_0 )\n",
    "\"\"\" Simulate 100 paths of trading in the pools \"\"\"\n",
    "batch_size = 1_000\n",
    "T = 60\n",
    "kappa = np . array ( [ 0.6 , 0.5 , 1 , 2 ] )\n",
    "p = np . array ( [ 0.85 , 0.3 , 0.2 , 0.3 ] )\n",
    "sigma = np . array ( [ 0.05 , 0.01 , 0.025 , 0.05 ] )\n",
    "end_pools , Rx_t , Ry_t , v_t , event_type_t , event_direction_t = \\\n",
    "pools . simulate ( kappa = kappa , p = p , sigma = sigma , T = T , batch_size =\n",
    "batch_size )\n",
    "print ( ' Reserves in coin X for scenario 0 : ' , end_pools [ 0 ] . Rx )\n",
    "print ( ' Reserves in coin Y for scenario 0 : ', end_pools [ 0 ] . Ry )\n",
    "\n",
    "\n",
    "\"\"\" Burn and swap all coins into x \"\"\"\n",
    "x_T = np . zeros ( batch_size )\n",
    "for k in range ( batch_size ) :\n",
    "    x_T[ k ] = np . sum ( end_pools [ k ] . burn_and_swap ( l ) )\n",
    "x_0 = np . sum ( xs_0 )\n",
    "log_ret = np . log ( x_T ) - np . log ( x_0 )\n",
    "print ( ' Average performance : ', np . mean ( log_ret ) / T * 100 )\n",
    "print ( ' Std . Dev . of performance : ', np . std ( log_ret ) / np . sqrt ( T ) * 100 )"
   ]
  },
  {
   "cell_type": "markdown",
   "id": "376e077b-8bf8-4713-9008-99d201c92cab",
   "metadata": {},
   "source": [
    "# Plot the performance distribution"
   ]
  },
  {
   "cell_type": "code",
   "execution_count": 89,
   "id": "f097a3fb-a434-4626-a043-1daeb9d21e0b",
   "metadata": {},
   "outputs": [
    {
     "data": {
      "image/png": "[encoded data removed]",
      "text/plain": [
       "<Figure size 500x400 with 1 Axes>"
      ]
     },
     "metadata": {},
     "output_type": "display_data"
    }
   ],
   "source": [
    "fig, ax = plt.subplots(1, 1, sharex=True, figsize=(5,4), sharey=True)\n",
    "\n",
    "x_0      = np.sum(xs_0)\n",
    "log_ret  = np.log(x_T) - np.log(x_0)\n",
    "\n",
    "# histogram plot\n",
    "sns.histplot(ax=ax, x=100*log_ret, kde=True)\n",
    "ax.set_xlabel(r'$Return$')\n",
    "\n",
    "# compute cvar\n",
    "alpha = 0.95 # 95% \n",
    "qtl   = -np.quantile(log_ret, 1-alpha)\n",
    "cvar  = np.mean(-log_ret[-log_ret>=qtl])\n",
    "\n",
    "zeta  = 0.05 # 5% \n",
    "ax.axvline(zeta*100, linestyle='--', color='lime', label=r\"$\\zeta = 5\\%$\")\n",
    "ax.axvline(-cvar*100, linestyle='--', color='red', label=r'$- CVaR_\\alpha\\approx$'+f'$-{round(100*cvar, 2)}\\%$')\n",
    "\n",
    "ax.xaxis.set_major_formatter(mtick.PercentFormatter())\n",
    "\n",
    "plt.legend(handlelength=0.8, framealpha=0.4, loc='upper left')\n",
    "plt.tight_layout()\n",
    "plt.savefig('cvar.pdf')\n",
    "plt.show()"
   ]
  },
  {
   "cell_type": "markdown",
   "id": "8a8dc580-f3f1-404e-bcc9-1e9a5e2b0491",
   "metadata": {},
   "source": [
    "# Other plots"
   ]
  },
  {
   "cell_type": "markdown",
   "id": "3dfa7ee6-2a4d-43cb-a8e2-c5ef97dfbef2",
   "metadata": {},
   "source": [
    "#### Visualize price reserve simulation paths"
   ]
  },
  {
   "cell_type": "code",
   "execution_count": null,
   "id": "a4b135d4-6b07-4aab-9729-ca5b82350ed8",
   "metadata": {
    "tags": []
   },
   "outputs": [],
   "source": [
    "fig, ax = plt.subplots(nrows=1, ncols=3, sharex=True, figsize=(8,4))\n",
    "\n",
    "j = 4\n",
    "\n",
    "# reserves of coin-X\n",
    "ax[0].plot(np.array(Rx_t[j]))\n",
    "ax[0].set_ylabel(r'$R^X_t$', fontsize=16)\n",
    "\n",
    "# reserves of coin-Y\n",
    "ax[1].plot(np.array(Ry_t[j]))\n",
    "ax[1].set_ylabel(r'$R^Y_t$', fontsize=16)\n",
    "\n",
    "# marginal price\n",
    "ax[2].plot(np.array(Rx_t[j])/np.array(Ry_t[j]))\n",
    "ax[2].set_ylabel(r'$R^X_t/R^Y_t$', fontsize=16)\n",
    "\n",
    "fig.add_subplot(111, frameon=False)\n",
    "plt.tick_params(labelcolor='none', which='both', top=False, bottom=False, left=False, right=False)\n",
    "plt.xlabel(r'$t$ (event)', fontsize=16)\n",
    "\n",
    "plt.tight_layout(pad=1.1)\n",
    "plt.show()"
   ]
  },
  {
   "cell_type": "markdown",
   "id": "91b0b82b-90be-49b0-91a0-95dc8209487f",
   "metadata": {},
   "source": [
    "#### Histogram of terminal marginal prices"
   ]
  },
  {
   "cell_type": "code",
   "execution_count": null,
   "id": "c21504b3-20dc-4c0d-ac2a-b9ac638a52b1",
   "metadata": {
    "tags": []
   },
   "outputs": [],
   "source": [
    "#%% plot histogram of terminal marginal price\n",
    "Rx_T = np.zeros((batch_size,len(pools.Rx)))\n",
    "Ry_T = np.zeros((batch_size,len(pools.Rx)))\n",
    "\n",
    "for k in range(batch_size):\n",
    "    Rx_T[k,:] = Rx_t[k][-1]\n",
    "    Ry_T[k,:] = Ry_t[k][-1]\n",
    "\n",
    "# initial marginal price\n",
    "P_0 = pools.Rx / pools.Ry\n",
    "\n",
    "# terminal marginal price\n",
    "P_T = Rx_T / Ry_T\n",
    "\n",
    "fig, ax = plt.subplots(nrows=1, ncols=len(Rx0), sharex=True, figsize=(8,3), sharey=True)\n",
    "\n",
    "for k in range(len(Rx0)):\n",
    "    log_ret  = np.log(P_T[:,k]/P_0[k]) # log return of the marginal price\n",
    "    mean_ret = np.mean(log_ret)/T*100\n",
    "    std_ret  = np.std(log_ret)/np.sqrt(T)*100\n",
    "    \n",
    "    # histogram plot\n",
    "    sns.histplot(ax=ax[k], x=P_T[:,k], kde=True)\n",
    "    ax[k].axvline(np.mean(P_T[:,k]), linestyle='--', color='k')\n",
    "    ax[k].set_title('$r={:.2f}'.format(mean_ret) +', vol={:.2f}'.format(std_ret) + '$', fontsize=12)\n",
    "    ax[k].set_xlabel(r'$P_T$')\n",
    "    \n",
    "plt.tight_layout()\n",
    "plt.show()"
   ]
  },
  {
   "cell_type": "code",
   "execution_count": null,
   "id": "9c4fca86-67f0-45e6-94bc-09f33b702ddb",
   "metadata": {},
   "outputs": [],
   "source": []
  }
 ],
 "metadata": {
  "kernelspec": {
   "display_name": "Python 3 (ipykernel)",
   "language": "python",
   "name": "python3"
  },
  "language_info": {
   "codemirror_mode": {
    "name": "ipython",
    "version": 3
   },
   "file_extension": ".py",
   "mimetype": "text/x-python",
   "name": "python",
   "nbconvert_exporter": "python",
   "pygments_lexer": "ipython3",
   "version": "3.10.13"
  }
 },
 "nbformat": 4,
 "nbformat_minor": 5
}
